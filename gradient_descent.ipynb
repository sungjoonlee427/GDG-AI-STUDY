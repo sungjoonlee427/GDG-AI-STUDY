{
 "cells": [
  {
   "cell_type": "markdown",
   "metadata": {},
   "source": [
    "# 확률적 경사 하강법 (Stochastic Gradient Descent, SGD)\n",
    "\n",
    "- 확률적 경사 하강법(SGD)은 머신러닝에서 비용 함수(Cost Function)를 최소화하기 위해 사용되는 최적화 알고리즘\n",
    "- 이 방법은 비용 함수의 기울기(Gradient)를 계산하고, 그 방향으로 가중치를 조정하여 최소점을 찾음\n",
    "- 확률적 경사 하강법은 경사 하강법의 변형으로, 매 반복마다 무작위로 선택된 하나의 데이터 포인트를 사용하여 가중치를 업데이트함\n",
    "\n",
    "- 작동 원리\n",
    "\t- 랜덤 샘플링: 전체 훈련 데이터셋에서 무작위로 하나의 샘플을 선택하여 그 샘플에 대한 기울기를 계산함. 이는 계산 속도를 크게 향상시킴.\n",
    "\t- 가중치 업데이트: 각 반복에서 선택된 데이터 샘플에 대한 오차를 기반으로 가중치를 조정함. 이 과정은 매우 빠르며, 메모리 소모량이 적음.\n",
    "\t- 반복 수행: 이 과정을 여러 번 반복하여 최적의 가중치를 찾음. 각 반복을 에포크(epoch)라고 부르며, 모든 데이터를 한 번씩 사용하는 것을 의미함.\n",
    "\n",
    "- 장점:\n",
    "\t- 빠른 계산 속도: 데이터셋의 일부만 사용하므로 계산이 빠름.\n",
    "\t- 메모리 효율성: 작은 메모리로도 대규모 데이터셋을 처리할 수 있음.\n",
    "\t- 지역 최솟값 탈출 용이: 무작위성을 띄므로 지역 최솟값에서 쉽게 벗어날 수 있음.\n",
    "\n",
    "- 단점:\n",
    "\t- 불안정한 수렴: 무작위로 추출된 샘플에 대해 경사를 구하므로, 손실 함수가 최솟값에 다다를 때까지 요동칠 수 있음.\n",
    "\t- 전역 최솟값 도달 어려움: 최적해에 정확히 도달하지 못할 가능성이 있음.\n",
    "\t\n",
    "- 확률적 경사 하강법은 이러한 특성 때문에 대규모 데이터셋이나 실시간 데이터 처리에 적합하며, 온라인 학습(Online Learning)에도 유용하게 사용됨."
   ]
  },
  {
   "cell_type": "markdown",
   "metadata": {},
   "source": [
    "# 배치 경사 하강법 (Batch Gradient Descent, BGD)\n",
    "- 배치 경사 하강법은 전체 데이터셋을 사용하여 기울기를 계산하고, 그 평균을 통해 가중치를 업데이트하는 방법. 이는 한 번의 에포크(epoch) 동안 모든 데이터를 고려하여 한 번의 업데이트를 수행함.\n",
    "- 장점: 모든 데이터를 사용하므로 안정적인 수렴을 보장하며, 매 스텝마다 정확한 기울기를 계산함.\n",
    "- 단점: 대규모 데이터셋에서는 계산 비용이 크고 메모리 소모가 많음. 따라서 실시간 학습이나 대규모 데이터셋에는 적합하지 않을 수 있음."
   ]
  },
  {
   "cell_type": "markdown",
   "metadata": {},
   "source": [
    "# 미니배치 경사 하강법 (Mini-Batch Gradient Descent)\n",
    "- 미니배치 경사 하강법은 전체 데이터셋을 여러 개의 작은 배치로 나누어 각 배치에 대해 기울기를 계산하고 가중치를 업데이트함 이는 배치 경사 하강법과 확률적 경사 하강법의 절충안\n",
    "- 장점: 연산량이 배치 경사 하강법보다 적고, 확률적 경사 하강법보다 안정적으로 수렴 또한, 벡터화된 연산을 통해 계산 효율성을 높일 수 있음\n",
    "- 단점: 배치 크기에 따라 성능이 달라질 수 있으며, 최적의 배치 크기를 찾는 것이 중요"
   ]
  },
  {
   "cell_type": "markdown",
   "metadata": {},
   "source": [
    "# 손실 함수 (Loss Function)\n",
    "- 손실 함수는 머신러닝과 딥러닝 모델에서 예측값과 실제값(레이블) 간의 차이를 측정하는 함수\n",
    "- 모델 학습의 핵심 요소로, 이 차이를 최소화하는 방향으로 모델의 매개변수를 조정하여 최적화를 수행\n",
    "- 주요 역할\n",
    "    - 오차 측정: 손실 함수는 모델이 예측한 값과 실제 값 사이의 오차를 수치화합니다. 이 오차를 최소화하는 것이 모델 학습의 목표입니다.\n",
    "\t- 모델 최적화: 손실 함수의 값을 줄이는 방향으로 매개변수를 업데이트하여 모델을 최적화합니다.\n",
    "\t- 학습 지표: 손실 함수는 학습 중 모델이 얼마나 잘 수행되고 있는지를 평가하는 지표로 사용됩니다.\n",
    "- 손실 함수의 종류\n",
    "\t- 회귀 문제:\n",
    "\t    - 평균 제곱 오차 (MSE): 예측값과 실제값 간의 차이를 제곱하여 평균을 냅니다. 오차가 큰 데이터에 민감하게 반응합니다.\n",
    "\t    - 평균 절대 오차 (MAE): 예측값과 실제값 간의 절대 차이를 평균합니다. MSE와 달리 아웃라이어에 덜 민감합니다.\n",
    "\t- 분류 문제:\n",
    "\t    - 이진 교차 엔트로피 (Binary Crossentropy): 이진 분류 문제에서 사용되며, 예측 확률과 실제 레이블 간의 차이를 측정합니다.\n",
    "\t    - 카테고리컬 교차 엔트로피 (Categorical Crossentropy): 다중 클래스 분류 문제에서 사용되며, 각 클래스에 대한 예측 확률과 실제 레이블 간의 차이를 측정합니다."
   ]
  },
  {
   "cell_type": "markdown",
   "metadata": {},
   "source": [
    "# 에포크 (Epoch)\n",
    "- 머신러닝과 딥러닝에서 모델이 전체 데이터셋을 한 번 학습하는 과정\n",
    "- 모델이 주어진 데이터셋을 처음부터 끝까지 한 번 훑고 나서 가중치를 업데이트하는 과정을 한 에포크라고 함\n",
    "- 작동 원리\n",
    "\t- 전체 데이터셋 학습: 에포크는 모델이 전체 훈련 데이터셋을 한 번 통과하여 학습을 완료하는 것을 의미함. 이는 순전파와 역전파 과정을 포함하여 신경망을 한 번 완전히 통과하는 것을 뜻함.\n",
    "\t- 반복 학습: 여러 에포크를 거치면서 모델은 데이터를 반복적으로 학습하며, 이를 통해 점차적으로 더 나은 성능을 발휘하게 됨 - 에포크 수가 많아질수록 모델은 더 많은 학습을 하게 되지만, 너무 많은 에포크는 과적합(overfitting)을 초래할 수 있음\n",
    "- 에포크와 반복(iteration)의 차이\n",
    "\t- 에포크: 전체 데이터셋에 대해 한 번의 학습 과정을 완료하는 단위\n",
    "\t- 반복(iteration): 하나의 미니배치(batch)를 처리하고 가중치를 업데이트하는 단위를 의미. 1 에포크는 여러 번의 반복(iteration)으로 구성됨. 예를 들어, 데이터셋이 1000개이고 배치 크기가 100이라면, 1 에포크를 완료하기 위해 10번의 반복이 필요."
   ]
  },
  {
   "cell_type": "markdown",
   "metadata": {},
   "source": [
    "1. 로지스틱 손실 함수 (Logistic Loss Function)\n",
    "\n",
    "로지스틱 손실 함수는 두 클래스 간의 예측이 얼마나 정확한지를 평가하기 위해 사용됩니다. 이진 분류 문제에서 타깃 값은 두 개의 클래스(예: 0 또는 1)로 나뉩니다. 로지스틱 손실 함수는 다음과 같이 정의됩니다:\n",
    "\n",
    "\n",
    "\\text{Loss} = -\\frac{1}{N} \\sum_{i=1}^{N} \\left( y_i \\cdot \\log(p_i) + (1 - y_i) \\cdot \\log(1 - p_i) \\right)\n",
    "\n",
    "\n",
    "여기서:\n",
    "\n",
    "\t•\t N 은 샘플의 개수,\n",
    "\t•\t y_i 는 샘플  i 의 실제 클래스 레이블 (0 또는 1),\n",
    "\t•\t p_i 는 샘플  i 가 클래스 1일 확률 (모델의 예측값)입니다.\n",
    "\n",
    "각 샘플에 대해:\n",
    "\n",
    "\t•\t실제 클래스가 1이면 -\\log(p_i)만 남게 되어  p_i 가 1에 가까울수록 손실이 작아집니다.\n",
    "\t•\t실제 클래스가 0이면 -\\log(1 - p_i)만 남아  p_i 가 0에 가까울수록 손실이 작아집니다.\n",
    "\n",
    "이 함수는 예측이 정확할수록 손실이 줄어들고, 잘못된 예측일수록 손실이 커지는 구조입니다.\n",
    "\n",
    "2. 이진 크로스엔트로피 손실 함수 (Binary Cross-Entropy Loss)\n",
    "\n",
    "이진 크로스엔트로피 손실 함수는 로지스틱 손실과 동일하며, 특히 신경망에서 이진 분류 문제를 해결할 때 많이 사용됩니다. 크로스엔트로피는 두 확률 분포(실제 클래스와 모델이 예측한 확률) 간의 차이를 측정하는 데 사용됩니다.\n",
    "\n",
    "이진 크로스엔트로피 공식은 로지스틱 손실 함수와 동일합니다. 따라서, 로지스틱 회귀에서 사용하는 손실 함수도 이진 크로스엔트로피 손실 함수로 볼 수 있습니다.\n",
    "\n",
    "이진 크로스엔트로피의 의미\n",
    "\n",
    "이 함수는 모델이 예측한 확률 분포가 실제 레이블 분포와 가까워질수록 손실을 줄이는 방식으로 작동합니다. 예측이 정확할 때의 확률과 불확실성을 고려하여 모델이 더 나은 분류를 할 수 있도록 훈련 과정을 돕습니다.\n",
    "\n",
    "예시\n",
    "\n",
    "\t•\t정답이 1일 때:  p_i 가 1에 가까워질수록 손실이 작아지므로, 모델은 1일 확률을 높이는 방향으로 학습하게 됩니다.\n",
    "\t•\t정답이 0일 때:  p_i 가 0에 가까워질수록 손실이 작아지므로, 모델은 0일 확률을 높이는 방향으로 학습하게 됩니다.\n",
    "\n",
    "이러한 특성 덕분에 로지스틱 손실 함수는 모델이 이진 분류 문제에서 확률 예측을 보다 정교하게 할 수 있도록 도와줍니다."
   ]
  },
  {
   "cell_type": "code",
   "execution_count": 6,
   "metadata": {},
   "outputs": [
    {
     "name": "stdout",
     "output_type": "stream",
     "text": [
      "0.8151260504201681\n",
      "0.8\n"
     ]
    },
    {
     "name": "stderr",
     "output_type": "stream",
     "text": [
      "/Users/leesung-joon/jupyter_env/lib/python3.13/site-packages/sklearn/linear_model/_stochastic_gradient.py:744: ConvergenceWarning: Maximum number of iteration reached before convergence. Consider increasing max_iter to improve the fit.\n",
      "  warnings.warn(\n"
     ]
    }
   ],
   "source": [
    "import pandas as pd  # 데이터 분석을 위한 pandas 라이브러리 임포트\n",
    "\n",
    "# 'fish' 데이터셋을 인터넷에서 불러와 데이터프레임으로 저장\n",
    "fish = pd.read_csv('https://bit.ly/fish_csv_data')\n",
    "\n",
    "# 모델 학습에 사용할 입력 데이터(특성)를 선택하여 NumPy 배열로 변환\n",
    "fish_input = fish[['Weight', 'Length', 'Diagonal', 'Height', 'Width']].to_numpy()\n",
    "\n",
    "# 모델의 타겟값(레이블)을 선택하여 NumPy 배열로 변환\n",
    "fish_target = fish['Species'].to_numpy()\n",
    "\n",
    "from sklearn.model_selection import train_test_split  # 데이터를 훈련 세트와 테스트 세트로 나누기 위한 함수 임포트\n",
    "\n",
    "# 데이터를 75:25 비율로 훈련 세트와 테스트 세트로 나눔. random_state는 데이터 나누기를 고정하여 재현성 유지\n",
    "train_input, test_input, train_target, test_target = train_test_split(\n",
    "    fish_input, fish_target, random_state=42\n",
    ")\n",
    "\n",
    "from sklearn.preprocessing import StandardScaler  # 데이터 표준화를 위한 StandardScaler 임포트\n",
    "\n",
    "# StandardScaler 객체 생성 후, 훈련 데이터에 맞게 스케일링 학습 진행\n",
    "ss = StandardScaler()\n",
    "ss.fit(train_input)\n",
    "\n",
    "# 훈련 데이터와 테스트 데이터를 학습된 스케일링을 기반으로 변환하여 표준화\n",
    "train_scaled = ss.transform(train_input)\n",
    "test_scaled = ss.transform(test_input)\n",
    "\n",
    "from sklearn.linear_model import SGDClassifier  # 확률적 경사 하강법(SGD)을 이용한 분류기 임포트\n",
    "\n",
    "# SGDClassifier 객체 생성. 'log_loss'를 사용하여 로지스틱 회귀로 분류하고, 최대 반복 횟수를 10회로 설정\n",
    "sc = SGDClassifier(loss='log_loss', max_iter=10, random_state=42)\n",
    "\n",
    "# 훈련 데이터를 이용해 모델 학습 진행\n",
    "sc.fit(train_scaled, train_target)\n",
    "\n",
    "# 학습한 모델의 훈련 세트와 테스트 세트 정확도를 출력하여 성능 확인\n",
    "print(sc.score(train_scaled, train_target))\n",
    "print(sc.score(test_scaled, test_target))"
   ]
  },
  {
   "cell_type": "code",
   "execution_count": 7,
   "metadata": {},
   "outputs": [
    {
     "name": "stdout",
     "output_type": "stream",
     "text": [
      "0.8067226890756303\n",
      "0.8\n"
     ]
    }
   ],
   "source": [
    "# partial_fit() 메서드를 사용하여 모델을 점진적으로 학습시킴\n",
    "# 이 메서드는 전체 데이터로 한 번에 학습하지 않고 점진적으로 데이터를 학습할 수 있게 해줌\n",
    "# partial_fit()을 사용할 경우, SGDClassifier는 매번 새로운 샘플로 업데이트를 하여 학습 상태를 유지\n",
    "\n",
    "sc.partial_fit(train_scaled, train_target)\n",
    "\n",
    "# 훈련 세트에서의 정확도를 측정하고 출력하여 모델의 학습 상태를 평가\n",
    "print(sc.score(train_scaled, train_target))\n",
    "\n",
    "# 테스트 세트에서의 정확도를 측정하고 출력하여 모델의 일반화 성능을 평가\n",
    "print(sc.score(test_scaled, test_target))"
   ]
  },
  {
   "cell_type": "markdown",
   "metadata": {},
   "source": [
    "- 적은 에포크 횟수 동안에 훈련한 모델은 훈련 세트와 테스트 세트에 잘 맞지 않는 과소적합된 모델일 가능성이 높음\n",
    "- 반대로 많은 에포크 횟수 동안에 훈련한 모델은 훈련세트에 너무 잘 맞아 테스트 세트에는 오히려 점수가 나쁜 과대적합된 모델일 가능성이 높음"
   ]
  },
  {
   "cell_type": "markdown",
   "metadata": {},
   "source": [
    "- 위 그래프는 에포크가 진행됨에 따라 모델의 정확도를 나타냄\n",
    "- 훈련 세트 점수는 에포크가 진행될수록 꾸준히 증가하지만 테스트 세트 점수는 어느 순간 감소하기 시작하는데 이 지점이 모델이 과대적합되기 시작하는 곳\n",
    "- 과대적합이 시작하기 전에 훈련을 멈추는 것을 조기종료라고 함"
   ]
  },
  {
   "cell_type": "code",
   "execution_count": 10,
   "metadata": {},
   "outputs": [
    {
     "data": {
      "image/png": "[encoded data removed]",
      "text/plain": [
       "<Figure size 640x480 with 1 Axes>"
      ]
     },
     "metadata": {},
     "output_type": "display_data"
    }
   ],
   "source": [
    "import numpy as np\n",
    "from sklearn.linear_model import SGDClassifier\n",
    "import matplotlib.pyplot as plt\n",
    "\n",
    "# SGDClassifier 초기화: 손실 함수는 로지스틱 손실 함수('log_loss') 사용\n",
    "# 이는 로지스틱 회귀를 위한 손실 함수로, 분류 문제에서 확률을 반환함\n",
    "sc = SGDClassifier(loss='log_loss', random_state=42)\n",
    "\n",
    "# 모델의 훈련 세트와 테스트 세트에 대한 정확도 점수를 저장할 리스트를 생성\n",
    "train_score = []\n",
    "test_score = []\n",
    "\n",
    "# 훈련 세트의 타깃값을 유일한 값으로 만들고, partial_fit 메서드의 클래스 파라미터에 전달\n",
    "# 이는 partial_fit이 여러 클래스에 대해 작동할 수 있도록 지원함\n",
    "classes = np.unique(train_target)\n",
    "\n",
    "# 300번의 에포크 동안 모델을 점진적으로 훈련\n",
    "for _ in range(0, 300):\n",
    "    # partial_fit: SGDClassifier가 점진적으로 데이터를 학습하도록 함\n",
    "    sc.partial_fit(train_scaled, train_target, classes=classes)\n",
    "    \n",
    "    # 훈련 세트와 테스트 세트의 정확도를 측정하고 리스트에 추가\n",
    "    train_score.append(sc.score(train_scaled, train_target))\n",
    "    test_score.append(sc.score(test_scaled, test_target))\n",
    "\n",
    "# 학습이 진행됨에 따라 정확도의 변화를 시각화\n",
    "plt.plot(train_score, label=\"Training accuracy\")  # 훈련 세트의 정확도\n",
    "plt.plot(test_score, label=\"Test accuracy\")       # 테스트 세트의 정확도\n",
    "plt.xlabel('Epoch')  # x축 라벨: Epoch (반복 횟수)\n",
    "plt.ylabel('Accuracy')  # y축 라벨: Accuracy (정확도)\n",
    "plt.legend()  # 범례 추가\n",
    "plt.show()  # 그래프를 화면에 출력"
   ]
  },
  {
   "cell_type": "markdown",
   "metadata": {},
   "source": [
    "- 백 번째 에포크 이후에는 훈련 세트와 테스트 세트의 점수가 조금씩 벌어지는 걸 볼 . 수있음\n",
    "- 에포크 초기에는 과소적합되어 훈련 센트와 테스트 세트의 점수가 낮음, 이 모델의 경우 백 번째 에포크가 적절한 반복 횟수로 보임"
   ]
  },
  {
   "cell_type": "code",
   "execution_count": 11,
   "metadata": {},
   "outputs": [
    {
     "name": "stdout",
     "output_type": "stream",
     "text": [
      "0.957983193277311\n",
      "0.925\n"
     ]
    }
   ],
   "source": [
    "from sklearn.linear_model import SGDClassifier\n",
    "\n",
    "# SGDClassifier 초기화:\n",
    "# - 손실 함수는 로지스틱 손실 함수('log_loss')로 설정하여, 로지스틱 회귀를 통해 확률 기반 분류를 수행\n",
    "# - max_iter는 100으로 설정해 최대 100번의 반복 훈련을 진행\n",
    "# - tol을 None으로 설정해, 자동 조기 종료 없이 지정한 max_iter 만큼 반복하도록 함\n",
    "# - random_state는 42로 설정해 결과의 재현성을 보장함\n",
    "sc = SGDClassifier(loss='log_loss', max_iter=100, tol=None, random_state=42)\n",
    "\n",
    "# 훈련 데이터에 대해 모델을 완전히 학습시킴 (fit 메서드 사용)\n",
    "sc.fit(train_scaled, train_target)\n",
    "\n",
    "# 훈련 세트의 정확도 출력\n",
    "print(sc.score(train_scaled, train_target))\n",
    "\n",
    "# 테스트 세트의 정확도 출력\n",
    "print(sc.score(test_scaled, test_target))"
   ]
  },
  {
   "cell_type": "code",
   "execution_count": 12,
   "metadata": {},
   "outputs": [
    {
     "name": "stdout",
     "output_type": "stream",
     "text": [
      "0.9495798319327731\n",
      "0.925\n"
     ]
    }
   ],
   "source": [
    "from sklearn.linear_model import SGDClassifier\n",
    "\n",
    "# SGDClassifier 초기화:\n",
    "# - 손실 함수는 'hinge'로 설정하여, 선형 서포트 벡터 머신(SVM)을 사용한 분류 모델을 생성\n",
    "#   ('hinge' 손실 함수는 SVM의 결정 경계를 학습하도록 함)\n",
    "# - max_iter를 100으로 설정해 최대 100번의 반복 훈련을 진행\n",
    "# - tol을 None으로 설정해, 자동 조기 종료 없이 지정한 max_iter만큼 반복하도록 함\n",
    "# - random_state를 42로 설정해 결과의 재현성을 보장\n",
    "sc = SGDClassifier(loss='hinge', max_iter=100, tol=None, random_state=42)\n",
    "\n",
    "# 훈련 데이터에 대해 모델을 완전히 학습시킴 (fit 메서드 사용)\n",
    "sc.fit(train_scaled, train_target)\n",
    "\n",
    "# 훈련 세트의 정확도 출력\n",
    "print(sc.score(train_scaled, train_target))\n",
    "\n",
    "# 테스트 세트의 정확도 출력\n",
    "print(sc.score(test_scaled, test_target))"
   ]
  }
 ],
 "metadata": {
  "kernelspec": {
   "display_name": "jupyter_env",
   "language": "python",
   "name": "jupyter_env"
  },
  "language_info": {
   "codemirror_mode": {
    "name": "ipython",
    "version": 3
   },
   "file_extension": ".py",
   "mimetype": "text/x-python",
   "name": "python",
   "nbconvert_exporter": "python",
   "pygments_lexer": "ipython3",
   "version": "3.13.0"
  }
 },
 "nbformat": 4,
 "nbformat_minor": 2
}
